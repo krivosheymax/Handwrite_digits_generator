{
  "nbformat": 4,
  "nbformat_minor": 0,
  "metadata": {
    "colab": {
      "provenance": [],
      "gpuType": "T4"
    },
    "kernelspec": {
      "name": "python3",
      "display_name": "Python 3"
    },
    "language_info": {
      "name": "python"
    },
    "accelerator": "GPU"
  },
  "cells": [
    {
      "cell_type": "code",
      "execution_count": 1,
      "metadata": {
        "id": "thgdmTbouna5"
      },
      "outputs": [],
      "source": [
        "import torch\n",
        "import torch.nn as nn\n",
        "import torch.nn.functional as F\n",
        "import torch.utils.data\n",
        "import numpy as np\n",
        "import matplotlib.pyplot as plt\n",
        "from torch.autograd import Variable\n",
        "from torch.utils.data import TensorDataset, DataLoader\n",
        "from copy import copy as cp\n",
        "from torch.optim.lr_scheduler import MultiStepLR"
      ]
    },
    {
      "cell_type": "code",
      "source": [
        "from sklearn.datasets import fetch_openml\n",
        "X, y = fetch_openml('mnist_784', version=1, return_X_y=True, as_frame=False)"
      ],
      "metadata": {
        "id": "kIyU_6bluur3"
      },
      "execution_count": 2,
      "outputs": []
    },
    {
      "cell_type": "code",
      "source": [
        "dev = torch.device(\"cuda\" if torch.cuda.is_available() else \"cpu\")\n",
        "dev"
      ],
      "metadata": {
        "id": "byFjhLb5ux25",
        "colab": {
          "base_uri": "https://localhost:8080/"
        },
        "outputId": "67c5622e-f43e-4bf6-851e-fc5c9931a7b7"
      },
      "execution_count": 3,
      "outputs": [
        {
          "output_type": "execute_result",
          "data": {
            "text/plain": [
              "device(type='cuda')"
            ]
          },
          "metadata": {},
          "execution_count": 3
        }
      ]
    },
    {
      "cell_type": "code",
      "source": [
        "class Encoder1(nn.Module):\n",
        "   def __init__(self, sz):\n",
        "        super(Encoder, self).__init__()\n",
        "        self.conv = nn.Sequential(\n",
        "                                nn.Conv2d(1, 1, 7),\n",
        "                                nn.BatchNorm2d(1),\n",
        "                                nn.ReLU(),\n",
        "                                nn.Conv2d(1, 1, 7),\n",
        "                                nn.BatchNorm2d(1),\n",
        "                                nn.ReLU(),\n",
        "                                nn.Conv2d(1, 1, 7),\n",
        "                                nn.BatchNorm2d(1),\n",
        "                                nn.ReLU(),\n",
        "                                nn.Flatten(),\n",
        "                                nn.Linear(100, 100), nn.BatchNorm1d(100), nn.ReLU())\n",
        "        self.mu = nn.Linear(100, sz)\n",
        "        self.log_std = nn.Linear(100, sz)\n",
        "   def forward(self, x):\n",
        "    z = self.conv(x)\n",
        "    mu = self.mu(z)\n",
        "    log_std = self.log_std(z)\n",
        "    return mu, log_std"
      ],
      "metadata": {
        "id": "5_fypjAmvQwl"
      },
      "execution_count": 4,
      "outputs": []
    },
    {
      "cell_type": "code",
      "source": [
        "class Encoder(nn.Module):\n",
        "   def __init__(self, sz):\n",
        "        super(Encoder, self).__init__()\n",
        "        self.conv = nn.Sequential(nn.Flatten(),\n",
        "                                nn.Linear(784, 500), nn.BatchNorm1d(500), nn.ReLU())\n",
        "        self.mu = nn.Linear(500, sz)\n",
        "        self.log_std = nn.Linear(500, sz)\n",
        "   def forward(self, x):\n",
        "    z = self.conv(x)\n",
        "    mu = self.mu(z)\n",
        "    log_std = self.log_std(z)\n",
        "    return mu, log_std"
      ],
      "metadata": {
        "id": "MyBBbLvWf-An"
      },
      "execution_count": 5,
      "outputs": []
    },
    {
      "cell_type": "code",
      "source": [
        "class Decoder(nn.Module):\n",
        "    def __init__(self, sz):\n",
        "        super(Decoder, self).__init__()\n",
        "        self.d1 = nn.Sequential(nn.Linear(sz, 500), nn.BatchNorm1d(500), nn.ReLU(),\n",
        "                                nn.Linear(500, 784), nn.BatchNorm1d(784), nn.ReLU())\n",
        "        self.d2 = nn.Sequential(nn.Conv2d(1, 3, 3, padding=1),\n",
        "                               nn.BatchNorm2d(3),\n",
        "                               nn.ReLU(),\n",
        "                               nn.Conv2d(3, 2, 3, padding=1),\n",
        "                               nn.BatchNorm2d(2),\n",
        "                               nn.ReLU(),\n",
        "                               nn.Conv2d(2, 1, 3, padding=1),\n",
        "                               nn.BatchNorm2d(1),\n",
        "                               nn.ReLU(),\n",
        "                               nn.Flatten(),\n",
        "                               nn.Linear(784, 784), nn.BatchNorm1d(784), nn.ReLU())\n",
        "    def forward(self, z):\n",
        "        z1 = self.d1(z)\n",
        "        z1 = z1.reshape(z1.shape[0], 1, 28, 28)\n",
        "        z2 = self.d2(z1)\n",
        "        z2 = z2.reshape(z1.shape[0], 1, 28, 28)\n",
        "        return z2"
      ],
      "metadata": {
        "id": "i2tI0-GQ_59L"
      },
      "execution_count": 6,
      "outputs": []
    },
    {
      "cell_type": "code",
      "source": [
        "class Decoder1(nn.Module):\n",
        "    def __init__(self, sz):\n",
        "        super(Decoder, self).__init__()\n",
        "        self.d1 = nn.Sequential(nn.Linear(sz, 500), nn.BatchNorm1d(500), nn.ReLU())\n",
        "        self.d2 = nn.Sequential(nn.Linear(500, 784), nn.BatchNorm1d(784), nn.ReLU())\n",
        "    def forward(self, z):\n",
        "        z1 = self.d1(z)\n",
        "        z2 = self.d2(z1)\n",
        "        z2 = z2.reshape(z1.shape[0], 1, 28, 28)\n",
        "        return z2"
      ],
      "metadata": {
        "id": "UdFnAz30LPRF"
      },
      "execution_count": 7,
      "outputs": []
    },
    {
      "cell_type": "code",
      "source": [
        "class VAEFitter(object):\n",
        "  def __init__(self, encoder, decoder, batch_size=64, n_epochs=15, latent_dim=300, lr=0.0001, KL_weight=0.001):\n",
        "        self.encoder = encoder\n",
        "        self.decoder = decoder\n",
        "        self.batch_size = batch_size\n",
        "        self.n_epochs = n_epochs\n",
        "        self.latent_dim = latent_dim\n",
        "        self.lr = lr\n",
        "        self.KL_weight = KL_weight\n",
        "        self.criterion = nn.MSELoss()\n",
        "        self.opt  = torch.optim.Adam(list(self.encoder.parameters()) + list(self.decoder.parameters()), lr=self.lr)\n",
        "        self.encoder = self.encoder.to(dev)\n",
        "        self.decoder = self.decoder.to(dev)\n",
        "  def gen_z(self, mu, log_std):\n",
        "        eps = torch.randn(mu.shape).to(dev)\n",
        "        return mu + torch.exp(log_std / 2) * eps\n",
        "  def vae_loss(self, x, rec_x, mu, log_std):\n",
        "        l1 = self.criterion(x, rec_x)\n",
        "        KL = torch.mean(-0.5 * torch.sum(1 + log_std - mu**2 - log_std.exp(), dim = 1), dim = 0)\n",
        "        return l1 + KL * self.KL_weight\n",
        "  def compute_loss(self, x_batch):\n",
        "        mu, log_std = self.encoder(x_batch)\n",
        "        z_batch = self.gen_z(mu, log_std)\n",
        "        x_batch_rec = self.decoder(z_batch)\n",
        "        loss = self.vae_loss(x_batch, x_batch_rec, mu, log_std)\n",
        "        return loss\n",
        "  def fit(self, X):\n",
        "        X_real = torch.tensor(X, dtype=torch.float, device=dev)\n",
        "        dataset_real = TensorDataset(X_real)\n",
        "        self.encoder.train(True)\n",
        "        self.decoder.train(True)\n",
        "        self.loss_history = []\n",
        "        scheduler = MultiStepLR(self.opt, milestones=[110], gamma=0.1)\n",
        "        for epoch in range(self.n_epochs):\n",
        "            for (x_batch, ) in DataLoader(dataset_real, batch_size=self.batch_size, shuffle=True):\n",
        "                loss = self.compute_loss(x_batch)\n",
        "                self.opt.zero_grad()\n",
        "                loss.backward()\n",
        "                self.opt.step()\n",
        "                self.loss_history.append(loss.detach().cpu())\n",
        "            if epoch==35:\n",
        "              self.KL_weight=0.001\n",
        "              print(\"Change\")\n",
        "            if epoch%3==0:\n",
        "              print(f'{epoch+1}/{self.n_epochs} Mean_loss = {sum(self.loss_history[-1000:])/1000}')\n",
        "            scheduler.step()\n",
        "        self.encoder.train(False)\n",
        "        self.decoder.train(False)\n",
        "        return cp(self.loss_history)"
      ],
      "metadata": {
        "id": "2ga1QLIbkOVO"
      },
      "execution_count": 8,
      "outputs": []
    },
    {
      "cell_type": "code",
      "source": [
        "X = X.reshape(X.shape[0], 1, 28, 28)"
      ],
      "metadata": {
        "id": "0I6tbQWso7Dm"
      },
      "execution_count": 9,
      "outputs": []
    },
    {
      "cell_type": "code",
      "source": [
        "%%time\n",
        "latent_dim = 4\n",
        "encoder = Encoder(latent_dim)\n",
        "decoder = Decoder(latent_dim)\n",
        "vae_fitter = VAEFitter(encoder, decoder,\n",
        "                       batch_size=64, n_epochs=100, latent_dim=latent_dim,\n",
        "                       lr=0.001, KL_weight=0.1)\n",
        "q = vae_fitter.fit(X)"
      ],
      "metadata": {
        "colab": {
          "base_uri": "https://localhost:8080/"
        },
        "id": "2hKYT--MmY-C",
        "outputId": "5746561d-31c5-4e15-a28d-776a0755572f"
      },
      "execution_count": 10,
      "outputs": [
        {
          "output_type": "stream",
          "name": "stdout",
          "text": [
            "1/100 Mean_loss = 7155.884765625\n",
            "4/100 Mean_loss = 6733.2890625\n",
            "7/100 Mean_loss = 6343.41552734375\n",
            "10/100 Mean_loss = 5965.60205078125\n",
            "13/100 Mean_loss = 5614.1552734375\n",
            "16/100 Mean_loss = 5283.68603515625\n",
            "19/100 Mean_loss = 4970.775390625\n",
            "22/100 Mean_loss = 4676.48388671875\n",
            "25/100 Mean_loss = 4397.5693359375\n",
            "28/100 Mean_loss = 4140.853515625\n",
            "31/100 Mean_loss = 3895.66015625\n",
            "34/100 Mean_loss = 3670.239013671875\n",
            "Change\n",
            "37/100 Mean_loss = 3451.601318359375\n",
            "40/100 Mean_loss = 3257.173095703125\n",
            "43/100 Mean_loss = 3076.108154296875\n",
            "46/100 Mean_loss = 2910.931396484375\n",
            "49/100 Mean_loss = 2755.7529296875\n",
            "52/100 Mean_loss = 2610.84375\n",
            "55/100 Mean_loss = 2491.581298828125\n",
            "58/100 Mean_loss = 2374.66845703125\n",
            "61/100 Mean_loss = 2276.143798828125\n",
            "64/100 Mean_loss = 2183.47119140625\n",
            "67/100 Mean_loss = 2105.109619140625\n",
            "70/100 Mean_loss = 2036.3587646484375\n",
            "73/100 Mean_loss = 1975.6533203125\n",
            "76/100 Mean_loss = 1925.6070556640625\n",
            "79/100 Mean_loss = 1878.37548828125\n",
            "82/100 Mean_loss = 1843.8548583984375\n",
            "85/100 Mean_loss = 1815.955810546875\n",
            "88/100 Mean_loss = 1791.4649658203125\n",
            "91/100 Mean_loss = 1773.0010986328125\n",
            "94/100 Mean_loss = 1758.8934326171875\n",
            "97/100 Mean_loss = 1745.1241455078125\n",
            "100/100 Mean_loss = 1740.4835205078125\n",
            "CPU times: user 10min 7s, sys: 6.04 s, total: 10min 13s\n",
            "Wall time: 10min 24s\n"
          ]
        }
      ]
    },
    {
      "cell_type": "code",
      "source": [
        "qw = list(range(len(q)))\n",
        "plt.plot(qw, q)"
      ],
      "metadata": {
        "colab": {
          "base_uri": "https://localhost:8080/",
          "height": 447
        },
        "id": "AzY9Wi-bnHzO",
        "outputId": "44cf6708-9e77-41d1-bf70-7a23f8390317"
      },
      "execution_count": 11,
      "outputs": [
        {
          "output_type": "execute_result",
          "data": {
            "text/plain": [
              "[<matplotlib.lines.Line2D at 0x7bf624073d90>]"
            ]
          },
          "metadata": {},
          "execution_count": 11
        },
        {
          "output_type": "display_data",
          "data": {
            "text/plain": [
              "<Figure size 640x480 with 1 Axes>"
            ],
            "image/png": "[encoded data removed]"
          },
          "metadata": {}
        }
      ]
    },
    {
      "cell_type": "code",
      "source": [
        "plt.scatter(range(len(vae_fitter.loss_history)), vae_fitter.loss_history, s=1)"
      ],
      "metadata": {
        "colab": {
          "base_uri": "https://localhost:8080/",
          "height": 447
        },
        "id": "wkZvP7Q5zbFC",
        "outputId": "d771a1da-8fa7-4d6d-9401-ee8fb79de10f"
      },
      "execution_count": 12,
      "outputs": [
        {
          "output_type": "execute_result",
          "data": {
            "text/plain": [
              "<matplotlib.collections.PathCollection at 0x7bf623e54e10>"
            ]
          },
          "metadata": {},
          "execution_count": 12
        },
        {
          "output_type": "display_data",
          "data": {
            "text/plain": [
              "<Figure size 640x480 with 1 Axes>"
            ],
            "image/png": "[encoded data removed]"
          },
          "metadata": {}
        }
      ]
    },
    {
      "cell_type": "code",
      "source": [
        "N = 1000\n",
        "Z = torch.normal(0, 1, (N, latent_dim))"
      ],
      "metadata": {
        "id": "qm0YaLfdnQAs"
      },
      "execution_count": 53,
      "outputs": []
    },
    {
      "cell_type": "code",
      "source": [
        "decoder.train(False)\n",
        "X_fake = decoder(Z.cuda()).cpu().detach().numpy()\n",
        "Z = Z.cpu().detach().numpy()"
      ],
      "metadata": {
        "id": "M29wrB17nYnx"
      },
      "execution_count": 54,
      "outputs": []
    },
    {
      "cell_type": "code",
      "source": [
        "from random import randint\n",
        "w = randint(0, 999)\n",
        "plt.imshow(X_fake[w][0], cmap=\"Greys\")"
      ],
      "metadata": {
        "colab": {
          "base_uri": "https://localhost:8080/",
          "height": 447
        },
        "id": "-WEolbx_nhQp",
        "outputId": "11e12256-bf68-4188-db88-9e5d9edc6fbd"
      },
      "execution_count": 62,
      "outputs": [
        {
          "output_type": "execute_result",
          "data": {
            "text/plain": [
              "<matplotlib.image.AxesImage at 0x7bf5ad859c90>"
            ]
          },
          "metadata": {},
          "execution_count": 62
        },
        {
          "output_type": "display_data",
          "data": {
            "text/plain": [
              "<Figure size 640x480 with 1 Axes>"
            ],
            "image/png": "[encoded data removed]"
          },
          "metadata": {}
        }
      ]
    },
    {
      "cell_type": "code",
      "source": [
        "#torch.save(decoder.state_dict(), 'gen2.pth')"
      ],
      "metadata": {
        "id": "-p7ITQX_nzU-"
      },
      "execution_count": 39,
      "outputs": []
    },
    {
      "cell_type": "code",
      "source": [
        "#from google.colab import files\n",
        "#files.download('/content/gen2.pth')"
      ],
      "metadata": {
        "colab": {
          "base_uri": "https://localhost:8080/",
          "height": 17
        },
        "id": "LmJu3mz-n6Wv",
        "outputId": "6e147182-9793-4ec5-ea63-00dd151acbc9"
      },
      "execution_count": 40,
      "outputs": [
        {
          "output_type": "display_data",
          "data": {
            "text/plain": [
              "<IPython.core.display.Javascript object>"
            ],
            "application/javascript": [
              "\n",
              "    async function download(id, filename, size) {\n",
              "      if (!google.colab.kernel.accessAllowed) {\n",
              "        return;\n",
              "      }\n",
              "      const div = document.createElement('div');\n",
              "      const label = document.createElement('label');\n",
              "      label.textContent = `Downloading \"${filename}\": `;\n",
              "      div.appendChild(label);\n",
              "      const progress = document.createElement('progress');\n",
              "      progress.max = size;\n",
              "      div.appendChild(progress);\n",
              "      document.body.appendChild(div);\n",
              "\n",
              "      const buffers = [];\n",
              "      let downloaded = 0;\n",
              "\n",
              "      const channel = await google.colab.kernel.comms.open(id);\n",
              "      // Send a message to notify the kernel that we're ready.\n",
              "      channel.send({})\n",
              "\n",
              "      for await (const message of channel.messages) {\n",
              "        // Send a message to notify the kernel that we're ready.\n",
              "        channel.send({})\n",
              "        if (message.buffers) {\n",
              "          for (const buffer of message.buffers) {\n",
              "            buffers.push(buffer);\n",
              "            downloaded += buffer.byteLength;\n",
              "            progress.value = downloaded;\n",
              "          }\n",
              "        }\n",
              "      }\n",
              "      const blob = new Blob(buffers, {type: 'application/binary'});\n",
              "      const a = document.createElement('a');\n",
              "      a.href = window.URL.createObjectURL(blob);\n",
              "      a.download = filename;\n",
              "      div.appendChild(a);\n",
              "      a.click();\n",
              "      div.remove();\n",
              "    }\n",
              "  "
            ]
          },
          "metadata": {}
        },
        {
          "output_type": "display_data",
          "data": {
            "text/plain": [
              "<IPython.core.display.Javascript object>"
            ],
            "application/javascript": [
              "download(\"download_82b89129-01c8-491b-8de0-41b072cef07d\", \"gen2.pth\", 4088654)"
            ]
          },
          "metadata": {}
        }
      ]
    }
  ]
}