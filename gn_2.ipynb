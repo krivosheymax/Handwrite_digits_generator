{
  "nbformat": 4,
  "nbformat_minor": 0,
  "metadata": {
    "colab": {
      "provenance": []
    },
    "kernelspec": {
      "name": "python3",
      "display_name": "Python 3"
    },
    "language_info": {
      "name": "python"
    }
  },
  "cells": [
    {
      "cell_type": "code",
      "execution_count": 1,
      "metadata": {
        "id": "f9WiNYMMk_vQ"
      },
      "outputs": [],
      "source": [
        "import torch\n",
        "import torch.nn as nn\n",
        "import torch.nn.functional as F\n",
        "import torch.utils.data\n",
        "import numpy as np\n",
        "import matplotlib.pyplot as plt"
      ]
    },
    {
      "cell_type": "code",
      "source": [
        "from google.colab import drive\n",
        "drive.mount('/content/drive')"
      ],
      "metadata": {
        "id": "JthySULH_L7-",
        "colab": {
          "base_uri": "https://localhost:8080/"
        },
        "outputId": "bf14a377-a38d-49c2-b1f0-260f3c065e99"
      },
      "execution_count": 2,
      "outputs": [
        {
          "output_type": "stream",
          "name": "stdout",
          "text": [
            "Drive already mounted at /content/drive; to attempt to forcibly remount, call drive.mount(\"/content/drive\", force_remount=True).\n"
          ]
        }
      ]
    },
    {
      "cell_type": "code",
      "source": [
        "dev = torch.device(\"cuda\" if torch.cuda.is_available() else \"cpu\")\n",
        "dev"
      ],
      "metadata": {
        "id": "XusOaNTH-ga7",
        "colab": {
          "base_uri": "https://localhost:8080/"
        },
        "outputId": "3a0217a4-1807-4226-f91b-c0ff68c0422c"
      },
      "execution_count": 3,
      "outputs": [
        {
          "output_type": "execute_result",
          "data": {
            "text/plain": [
              "device(type='cpu')"
            ]
          },
          "metadata": {},
          "execution_count": 3
        }
      ]
    },
    {
      "cell_type": "code",
      "source": [
        "mod = torch.load(\"/content/drive/MyDrive/Colab Notebooks/gen2.pth\", map_location=dev) # Написать путь к файлу gen2.pth"
      ],
      "metadata": {
        "id": "TCB4FnxM-zFT"
      },
      "execution_count": 4,
      "outputs": []
    },
    {
      "cell_type": "code",
      "source": [
        "class Decoder(nn.Module):\n",
        "    def __init__(self, sz):\n",
        "        super(Decoder, self).__init__()\n",
        "        self.d1 = nn.Sequential(nn.Linear(sz, 500), nn.BatchNorm1d(500), nn.ReLU(),\n",
        "                                nn.Linear(500, 784), nn.BatchNorm1d(784), nn.ReLU())\n",
        "        self.d2 = nn.Sequential(nn.Conv2d(1, 3, 3, padding=1),\n",
        "                               nn.BatchNorm2d(3),\n",
        "                               nn.ReLU(),\n",
        "                               nn.Conv2d(3, 2, 3, padding=1),\n",
        "                               nn.BatchNorm2d(2),\n",
        "                               nn.ReLU(),\n",
        "                               nn.Conv2d(2, 1, 3, padding=1),\n",
        "                               nn.BatchNorm2d(1),\n",
        "                               nn.ReLU(),\n",
        "                               nn.Flatten(),\n",
        "                               nn.Linear(784, 784), nn.BatchNorm1d(784), nn.ReLU())\n",
        "    def forward(self, z):\n",
        "        z1 = self.d1(z)\n",
        "        z1 = z1.reshape(z1.shape[0], 1, 28, 28)\n",
        "        z2 = self.d2(z1)\n",
        "        z2 = z2.reshape(z1.shape[0], 1, 28, 28)\n",
        "        return z2"
      ],
      "metadata": {
        "id": "QfNcs_me95ew"
      },
      "execution_count": 5,
      "outputs": []
    },
    {
      "cell_type": "code",
      "source": [
        "size=4\n",
        "net = Decoder(size)\n",
        "net.to(dev)\n",
        "net.load_state_dict(mod)\n",
        "net"
      ],
      "metadata": {
        "id": "u_xyaY5A99hm",
        "colab": {
          "base_uri": "https://localhost:8080/"
        },
        "outputId": "3e6fbe5a-6c7e-4f57-a46d-3a5e428c4ec9"
      },
      "execution_count": 6,
      "outputs": [
        {
          "output_type": "execute_result",
          "data": {
            "text/plain": [
              "Decoder(\n",
              "  (d1): Sequential(\n",
              "    (0): Linear(in_features=4, out_features=500, bias=True)\n",
              "    (1): BatchNorm1d(500, eps=1e-05, momentum=0.1, affine=True, track_running_stats=True)\n",
              "    (2): ReLU()\n",
              "    (3): Linear(in_features=500, out_features=784, bias=True)\n",
              "    (4): BatchNorm1d(784, eps=1e-05, momentum=0.1, affine=True, track_running_stats=True)\n",
              "    (5): ReLU()\n",
              "  )\n",
              "  (d2): Sequential(\n",
              "    (0): Conv2d(1, 3, kernel_size=(3, 3), stride=(1, 1), padding=(1, 1))\n",
              "    (1): BatchNorm2d(3, eps=1e-05, momentum=0.1, affine=True, track_running_stats=True)\n",
              "    (2): ReLU()\n",
              "    (3): Conv2d(3, 2, kernel_size=(3, 3), stride=(1, 1), padding=(1, 1))\n",
              "    (4): BatchNorm2d(2, eps=1e-05, momentum=0.1, affine=True, track_running_stats=True)\n",
              "    (5): ReLU()\n",
              "    (6): Conv2d(2, 1, kernel_size=(3, 3), stride=(1, 1), padding=(1, 1))\n",
              "    (7): BatchNorm2d(1, eps=1e-05, momentum=0.1, affine=True, track_running_stats=True)\n",
              "    (8): ReLU()\n",
              "    (9): Flatten(start_dim=1, end_dim=-1)\n",
              "    (10): Linear(in_features=784, out_features=784, bias=True)\n",
              "    (11): BatchNorm1d(784, eps=1e-05, momentum=0.1, affine=True, track_running_stats=True)\n",
              "    (12): ReLU()\n",
              "  )\n",
              ")"
            ]
          },
          "metadata": {},
          "execution_count": 6
        }
      ]
    },
    {
      "cell_type": "code",
      "source": [
        "# Запустить для генерации цифры\n",
        "N = 1\n",
        "Z = torch.normal(0, 1, (N, size))\n",
        "net.train(False)\n",
        "x = net(Z).detach().numpy()\n",
        "plt.imshow(x[0][0], cmap=\"Greys\")"
      ],
      "metadata": {
        "colab": {
          "base_uri": "https://localhost:8080/",
          "height": 447
        },
        "id": "Sexa0swl-eLC",
        "outputId": "f6b5d835-de34-46fd-f148-9d5cf7460f38"
      },
      "execution_count": 48,
      "outputs": [
        {
          "output_type": "execute_result",
          "data": {
            "text/plain": [
              "<matplotlib.image.AxesImage at 0x7d1f6714b950>"
            ]
          },
          "metadata": {},
          "execution_count": 48
        },
        {
          "output_type": "display_data",
          "data": {
            "text/plain": [
              "<Figure size 640x480 with 1 Axes>"
            ],
            "image/png": "[encoded data removed]"
          },
          "metadata": {}
        }
      ]
    }
  ]
}